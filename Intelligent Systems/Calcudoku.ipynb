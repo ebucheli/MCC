{
 "cells": [
  {
   "cell_type": "markdown",
   "metadata": {},
   "source": [
    "# Constraint Satisfaction Problems"
   ]
  },
  {
   "cell_type": "markdown",
   "metadata": {},
   "source": [
    "Edoardo Bucheli A01016080\n",
    "\n",
    "Ernesto Campos A00759359"
   ]
  },
  {
   "cell_type": "markdown",
   "metadata": {},
   "source": [
    "In this notebook we use the CSP class from AIMA to solve an instance of the Calcudoku Puzzle. To do so we need to define the variables we shall use (this is represented as the list, `variables`), their domains (represented as a dictionary `domains={var1:[possiblevaluesvar1],...}`), and the variables with which a certain variable may have a constraint, i.e. the neighbors for each node in a graph where each variable is a node and each edge is a constraint between the nodes that it connects (represented as a dictionary `neighbors={var1:[neighborsvar1],...}`)."
   ]
  },
  {
   "cell_type": "code",
   "execution_count": 1,
   "metadata": {},
   "outputs": [],
   "source": [
    "from csp import *"
   ]
  },
  {
   "cell_type": "markdown",
   "metadata": {},
   "source": [
    "The function **calcudoku_constraints**, returns `True` if the state where variable `A` = `a` and variable `B` = `b` is legal given the constraints, the function returns `False` if the assignments are not legal."
   ]
  },
  {
   "cell_type": "code",
   "execution_count": 2,
   "metadata": {},
   "outputs": [],
   "source": [
    "def calcudoku_constraints(A,a,B,b):\n",
    "    if A == 'A':\n",
    "        if B == 'E':\n",
    "            return (a+b==3 and a!=b)\n",
    "        elif B == 'B' or B == 'C' or B == 'D' or B == 'I' or B == 'M':\n",
    "            return not(a == b)\n",
    "    elif A == 'B':\n",
    "        #'B':['A','C','D','F','J','N','F'],\n",
    "        if B == 'F':\n",
    "            return (a+b==7 and a!=b)\n",
    "        elif B == 'A' or B == 'C' or B == 'D' or B == 'J' or B == 'N':\n",
    "            return not(a == b)\n",
    "    elif A == 'C':\n",
    "        #'C':['A','B','D','G','K','O','D'],\n",
    "        if B == 'D':\n",
    "            return (a+b==6 and a!=b)\n",
    "        elif B == 'A' or B == 'B' or B == 'G' or B == 'K' or B == 'O':\n",
    "            return not(a == b)\n",
    "    elif A == 'D':\n",
    "        #'D':['A','B','C','H','L','P','C'],\n",
    "        if B == 'C':\n",
    "            return (a+b==6 and a!=b)\n",
    "        elif B == 'A' or B == 'B' or B == 'H' or B == 'L' or B == 'P':\n",
    "            return not(a == b)\n",
    "    elif A == 'E':\n",
    "        #'E':['A','F','G','H','I','M','A'],\n",
    "        if B == 'A':\n",
    "            return (a+b==3 and a!=b)\n",
    "        elif B == 'F' or B == 'G' or B == 'H' or B == 'I' or B == 'M':\n",
    "            return not(a == b)\n",
    "    elif A == 'F':\n",
    "        #'F':['B','E','G','H','J','N','B'],\n",
    "        if B == 'B':\n",
    "            return (a+b==7 and a!=b)\n",
    "        elif B == 'E' or B == 'G' or B == 'H' or B == 'J' or B == 'N':\n",
    "            return not(a == b)\n",
    "    elif A == 'G':\n",
    "        #'G':['C','E','F','H','K','O','G'],\n",
    "        if B == 'G':\n",
    "            return (a==b and a==1)\n",
    "        elif B == 'C' or B == 'E' or B == 'F' or B == 'H' or B == 'K' or B == 'O':\n",
    "            return not(a == b)\n",
    "    elif A == 'H':\n",
    "        #'H':['D','E','F','G','L','P','L'],\n",
    "        if B == 'L':\n",
    "            return (a+b==4 and a!=b)\n",
    "        elif B == 'D' or B == 'E' or B == 'F' or B == 'G' or B == 'P':\n",
    "            return not(a == b)\n",
    "    elif A == 'I':\n",
    "        #'I':['A','E','J','K','L','M','J'],\n",
    "        if B == 'J':\n",
    "            return (a+b==6 and a!=b)\n",
    "        elif B == 'A' or B == 'E' or B == 'K' or B == 'L' or B == 'M':\n",
    "            return not(a == b)\n",
    "    elif A == 'J':\n",
    "        #'J':['B','F','I','K','L','N','I'],\n",
    "        if B == 'I':\n",
    "            return (a+b==6 and a!=b)\n",
    "        elif B == 'B' or B == 'F' or B == 'K' or B == 'L' or B == 'N':\n",
    "            return not(a == b)\n",
    "    elif A == 'K':\n",
    "        #'K':['C','G','I','J','L','O','O'],\n",
    "        if B == 'O':\n",
    "            return (a+b==5 and a!=b)\n",
    "        elif B == 'C' or B == 'G' or B == 'I' or B == 'J' or B == 'L':\n",
    "            return not(a == b)\n",
    "    elif A == 'L':\n",
    "        #'L':['D','H','I','J','K','P','H'],\n",
    "        if B == 'H':\n",
    "            return (a+b==4 and a!=b)\n",
    "        elif B == 'D' or B == 'I' or B == 'J' or B == 'K' or B == 'P':\n",
    "            return not(a == b)\n",
    "    elif A == 'M':\n",
    "        #'M':['A','E','I','N','O','P','N'],\n",
    "        if B == 'N':\n",
    "            return (a+b==4 and a!=b)\n",
    "        elif B == 'A' or B == 'E' or B == 'I' or B == 'O' or B == 'P':\n",
    "            return not(a == b)\n",
    "    elif A == 'N':\n",
    "        #'N':['B','F','J','M','O','P','M'],\n",
    "        if B == 'M':\n",
    "            return (a+b==4 and a!=b)\n",
    "        elif B == 'B' or B == 'F' or B == 'J' or B == 'O' or B == 'P':\n",
    "            return not(a == b)\n",
    "    elif A == 'O':\n",
    "        #'O':['C','G','K','M','N','P','K'],\n",
    "        if B == 'K':\n",
    "            return (a+b==5 and a!=b)\n",
    "        elif B == 'C' or B == 'G' or B == 'M' or B == 'N' or B == 'P':\n",
    "            return not(a == b)\n",
    "    elif A == 'P':\n",
    "        #'P':['D','H','L','M','N','O','P']\n",
    "        if B == 'P':\n",
    "            return (a==b and a==4)\n",
    "        elif B == 'D' or B == 'H' or B == 'L' or B == 'M' or B == 'N' or B == 'O':\n",
    "            return not(a == b)\n",
    "                    "
   ]
  },
  {
   "cell_type": "markdown",
   "metadata": {},
   "source": [
    "In this block, we set `variables`, `domains` and `neighbors` as described at the beginning of this document."
   ]
  },
  {
   "cell_type": "code",
   "execution_count": 3,
   "metadata": {},
   "outputs": [],
   "source": [
    "variables = ('A','B','C','D','E','F','G','H','I','J','K','L','M','N','O','P')\n",
    "domains = {}\n",
    "\n",
    "for i in variables:\n",
    "    domains[i]=[1,2,3,4]\n",
    "\n",
    "neighbors = {\n",
    "    'A':['B','C','D','E','I','M'],\n",
    "    'B':['A','C','D','F','J','N'],\n",
    "    'C':['A','B','D','G','K','O'],\n",
    "    'D':['A','B','C','H','L','P'],\n",
    "    'E':['A','F','G','H','I','M'],\n",
    "    'F':['B','E','G','H','J','N'],\n",
    "    'G':['C','E','F','H','K','O','G'],\n",
    "    'H':['D','E','F','G','L','P'],\n",
    "    'I':['A','E','J','K','L','M'],\n",
    "    'J':['B','F','I','K','L','N'],\n",
    "    'K':['C','G','I','J','L','O'],\n",
    "    'L':['D','H','I','J','K','P'],\n",
    "    'M':['A','E','I','N','O','P'],\n",
    "    'N':['B','F','J','M','O','P'],\n",
    "    'O':['C','G','K','M','N','P'],\n",
    "    'P':['D','H','L','M','N','O','P']\n",
    "}    "
   ]
  },
  {
   "cell_type": "markdown",
   "metadata": {},
   "source": [
    "Figure 1 presents the instance of calcudoku that this program solves\n",
    "\n",
    "<img src=\"chall1.png\" style=\"width: 250px;\">\n",
    "\n",
    "Now we shall create the instance of the problem using the previously set lists and dictionaries"
   ]
  },
  {
   "cell_type": "code",
   "execution_count": 4,
   "metadata": {},
   "outputs": [],
   "source": [
    "calcudoku = CSP(variables,domains,neighbors,calcudoku_constraints)"
   ]
  },
  {
   "cell_type": "markdown",
   "metadata": {},
   "source": [
    "Since this is a simple problem, we use backtracking to find the solution."
   ]
  },
  {
   "cell_type": "code",
   "execution_count": 5,
   "metadata": {},
   "outputs": [
    {
     "name": "stdout",
     "output_type": "stream",
     "text": [
      "{}\n",
      "{'A': 1}\n",
      "{'A': 1, 'B': 2}\n",
      "{'A': 1, 'B': 2, 'C': 3}\n",
      "{'A': 1, 'B': 2, 'C': 4}\n",
      "{'A': 1, 'B': 3}\n",
      "{'A': 1, 'B': 3, 'C': 4}\n",
      "{'A': 1, 'B': 3, 'C': 4, 'D': 2}\n",
      "{'A': 1, 'B': 3, 'C': 4, 'D': 2, 'E': 2}\n",
      "{'A': 1, 'B': 3, 'C': 4, 'D': 2, 'E': 2, 'F': 4}\n",
      "{'A': 1, 'B': 3, 'C': 4, 'D': 2, 'E': 2, 'F': 4, 'G': 1}\n",
      "{'A': 1, 'B': 3, 'C': 4, 'D': 2, 'E': 2, 'F': 4, 'G': 1, 'H': 3}\n",
      "{'A': 1, 'B': 3, 'C': 4, 'D': 2, 'E': 2, 'F': 4, 'G': 1, 'H': 3, 'I': 3}\n",
      "{'A': 1, 'B': 3, 'C': 4, 'D': 2, 'E': 2, 'F': 4, 'G': 1, 'H': 3, 'I': 4}\n",
      "{'A': 1, 'B': 3, 'C': 4, 'D': 2, 'E': 2, 'F': 4, 'G': 1, 'H': 3, 'I': 4, 'J': 2}\n",
      "{'A': 1, 'B': 3, 'C': 4, 'D': 2, 'E': 2, 'F': 4, 'G': 1, 'H': 3, 'I': 4, 'J': 2, 'K': 3}\n",
      "{'A': 1, 'B': 3, 'C': 4, 'D': 2, 'E': 2, 'F': 4, 'G': 1, 'H': 3, 'I': 4, 'J': 2, 'K': 3, 'L': 1}\n",
      "{'A': 1, 'B': 3, 'C': 4, 'D': 2, 'E': 2, 'F': 4, 'G': 1, 'H': 3, 'I': 4, 'J': 2, 'K': 3, 'L': 1, 'M': 3}\n",
      "{'A': 1, 'B': 3, 'C': 4, 'D': 2, 'E': 2, 'F': 4, 'G': 1, 'H': 3, 'I': 4, 'J': 2, 'K': 3, 'L': 1, 'M': 3, 'N': 1}\n",
      "{'A': 1, 'B': 3, 'C': 4, 'D': 2, 'E': 2, 'F': 4, 'G': 1, 'H': 3, 'I': 4, 'J': 2, 'K': 3, 'L': 1, 'M': 3, 'N': 1, 'O': 2}\n",
      "{'A': 1, 'B': 3, 'C': 4, 'D': 2, 'E': 2, 'F': 4, 'G': 1, 'H': 3, 'I': 4, 'J': 2, 'K': 3, 'L': 1, 'M': 3, 'N': 1, 'O': 2, 'P': 4}\n"
     ]
    }
   ],
   "source": [
    "result = backtracking_search(calcudoku)"
   ]
  },
  {
   "cell_type": "code",
   "execution_count": 6,
   "metadata": {},
   "outputs": [
    {
     "name": "stdout",
     "output_type": "stream",
     "text": [
      "{'A': 1, 'B': 3, 'C': 4, 'D': 2, 'E': 2, 'F': 4, 'G': 1, 'H': 3, 'I': 4, 'J': 2, 'K': 3, 'L': 1, 'M': 3, 'N': 1, 'O': 2, 'P': 4}\n"
     ]
    }
   ],
   "source": [
    "print(result)"
   ]
  },
  {
   "cell_type": "markdown",
   "metadata": {},
   "source": [
    "Using this values in the final document we can see that the solution has been found appropriately.\n",
    "\n",
    "<img src=\"cd1.jpg\" style=\"width: 200px;\">"
   ]
  }
 ],
 "metadata": {
  "kernelspec": {
   "display_name": "Python 3",
   "language": "python",
   "name": "python3"
  },
  "language_info": {
   "codemirror_mode": {
    "name": "ipython",
    "version": 3
   },
   "file_extension": ".py",
   "mimetype": "text/x-python",
   "name": "python",
   "nbconvert_exporter": "python",
   "pygments_lexer": "ipython3",
   "version": "3.6.5"
  }
 },
 "nbformat": 4,
 "nbformat_minor": 2
}
