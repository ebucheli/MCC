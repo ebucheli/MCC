{
 "cells": [
  {
   "cell_type": "markdown",
   "metadata": {},
   "source": [
    "# Bees System Algorithm"
   ]
  },
  {
   "cell_type": "markdown",
   "metadata": {},
   "source": [
    "Edoardo Bucheli A01016080\n",
    "Ernesto Campos A00759359"
   ]
  },
  {
   "cell_type": "markdown",
   "metadata": {},
   "source": [
    "In this notebook we present an implementation of the Bees System Algorithm to find the solution to a 2-dimensional Sensor Network problem. First we implement several helper functions and finally we present an example problem statement and solution.\n",
    "\n",
    "Let us first talk about the characterization of the problem. The terrain is represented as a 2D grid with dimensions $6\\times 6$. We represent positions with a tuple $(a,b)$ where $a$ is the row and $b$ is the column. The upper left coordinate is $(1,1)$ and the bottom right corner is the coordinate $(6,6)$.\n",
    "\n",
    "The terrain or `board` is represented as a list that is itself composed of lists each containing the information for a row. In its original configuration, a $1$ represents a cell that we wish to have a sensor in and $0$ represents a cell which does not interests us. This changes when a solution is generated, this is explained later in this document.\n",
    "\n",
    "We use a list `sensors` whose length is equal to the number of sensors to place in the terrain. Each nth element `sensors[n]` represents the dimension of the receptive field of the sensor. So a sensor represented by the number $3$ has a receptive field of $3\\times 3$. The coordinate given is the upper left corner of said recpetive field.\n",
    "\n",
    "A solution is represented as a list of tuples specifying the position for each sensor. This must coincide with the list `sensors`, so the first element in a list `sol` refers to the position of the first element in the `sensors` list, and so on."
   ]
  },
  {
   "cell_type": "code",
   "execution_count": 1,
   "metadata": {
    "colab": {},
    "colab_type": "code",
    "id": "kKCFPC6zhci8"
   },
   "outputs": [],
   "source": [
    "import numpy as np\n",
    "import copy"
   ]
  },
  {
   "cell_type": "markdown",
   "metadata": {},
   "source": [
    "The first two functions simply take a board and print it so it can be easily interpreted by the user. We use two functions since representation for a terrain and a solution is different. To understand the difference check the text before the function `make_sol()`"
   ]
  },
  {
   "cell_type": "code",
   "execution_count": 2,
   "metadata": {
    "colab": {},
    "colab_type": "code",
    "id": "yMZ8IoGOoip-"
   },
   "outputs": [],
   "source": [
    "def print_sol(board):\n",
    "    \"\"\"Input a solution board as made by make_sol() and print it\"\"\"\n",
    "    n = len(board)\n",
    "    print('  ',end = '')\n",
    "    for i in range(0,n):\n",
    "        print(i+1,'',end ='')\n",
    "    print('')\n",
    "    for i in range(0,n):\n",
    "        print(i+1,end = ' ')\n",
    "        for j in range(0,n):\n",
    "            print(board[i][j],'',end = '')\n",
    "        print('')"
   ]
  },
  {
   "cell_type": "code",
   "execution_count": 3,
   "metadata": {},
   "outputs": [],
   "source": [
    "def print_board(board):\n",
    "    \"\"\"Print the initial board\"\"\"\n",
    "    n = len(board)\n",
    "    print('  ',end = '')\n",
    "    for i in range(0,n):\n",
    "        print(i+1,'',end ='')\n",
    "    print('')\n",
    "    for i in range(0,n):\n",
    "        print(i+1,end = ' ')\n",
    "        for j in range(0,n):\n",
    "            if board[i][j] == 1:\n",
    "                print('- ',end = '')\n",
    "            else:\n",
    "                print('X ',end = '')\n",
    "        print('')"
   ]
  },
  {
   "cell_type": "markdown",
   "metadata": {},
   "source": [
    "### Characterization of a solution\n",
    "\n",
    "There are several things we wish to represent in a solution, thus the representation for the configuration of a terrain and one where the sensors have been placed are different. \n",
    "\n",
    "A sensor may have a receptive field greater than 1 as specified by the `sensors` list. From the position coordinate, a sensor extends as many units to the right and below as its receptive field making a square. \n",
    "\n",
    "A number then, represents the sensor that is acting upon the cell. If a cell contains the number $1$ that means that that cell is being recorded by sensor 1. A 2 means the same for the second sensor and so on.\n",
    "\n",
    "If a cell is within the receptive field of a sensor but it is a cell that we do not wish to record then a '#' symbol appears instead. If a cell is not within the receptive field of any sensor but we wish to record it, its value should be '-'. Finally, 'X' means that there is no sensor and we do not wish to record the cell anyway.\n",
    "\n",
    "The formula `make_sol()` takes an original terrain configuration, a list that represents a solution `sol` and the list `sensors` and returns a board as described in this section."
   ]
  },
  {
   "cell_type": "code",
   "execution_count": 4,
   "metadata": {
    "colab": {},
    "colab_type": "code",
    "id": "hSrZz-MFhgjL"
   },
   "outputs": [],
   "source": [
    "def make_sol(board,sol,sensors):\n",
    "    \"\"\"\n",
    "    Take terrain configuration, a solution and a list with the sensors and their size.\n",
    "    Return board with sensors placed as specified by the solution and sensor size     \n",
    "    \"\"\"\n",
    "    for i in range(0,6):\n",
    "        for j in range(0,6):\n",
    "            if board[i][j]==1:\n",
    "                board[i][j]='-'\n",
    "            elif board[i][j]==0:\n",
    "                 board[i][j]='X'\n",
    "    count = 1\n",
    "    for n in sol:\n",
    "        i = n[0]-1\n",
    "        j = n[1]-1\n",
    "            \n",
    "        this_sensor = sensors[count-1]\n",
    "        for k in range(0,this_sensor):\n",
    "            for l in range(0,this_sensor):\n",
    "                if not(i+k>5 or j+l>5):\n",
    "                    if(board[i+k][j+l]=='-'):\n",
    "                        board[i+k][j+l]=count\n",
    "                    elif(board[i+k][j+l]=='X'):\n",
    "                        board[i+k][j+l]= '#'\n",
    "                else:\n",
    "                    pass\n",
    "        count += 1\n",
    "    return board"
   ]
  },
  {
   "cell_type": "markdown",
   "metadata": {},
   "source": [
    "### Fitness of a solution\n",
    "\n",
    "We measure how good a solution is by checking how many of the desired cells are within the receptive field of a sensor. Therefore we wish to maximize our fitness."
   ]
  },
  {
   "cell_type": "code",
   "execution_count": 5,
   "metadata": {
    "colab": {},
    "colab_type": "code",
    "id": "iLooNKZroj_5"
   },
   "outputs": [],
   "source": [
    "def checksolution(board):\n",
    "    \"\"\"Check the fitness of a solution, how many of the desired cells have a sensor\"\"\"\n",
    "    total = 0\n",
    "    for i in range(0,6):\n",
    "        for j in range(0,6):\n",
    "            if type(board[i][j])==int:\n",
    "                if board[i][j]>0:\n",
    "                    total += 1\n",
    "    return total"
   ]
  },
  {
   "cell_type": "markdown",
   "metadata": {},
   "source": [
    "### Bees Algorithm\n",
    "\n",
    "The previous blocks were used for representation of the problem, this following blocks are part of the bees algorithm. A bee is represented exactly the same as a solution (a list of tuples specifying where the sensors are placed). A swarm is a list of bees. \n",
    "\n",
    "1. `generate_random_bees()` creates a list with randomly initialized bees within the grid.\n",
    "1. `check_swarm_fitness()` takes a swarm and returns a list with the indices of the best $n$ bees where the first element of the list represents the bee with the best fitness.\n",
    "1. `make_swarm()` takes the list generated by `check_swarm_fitness()` and returns a new smaller swarm organized like the fitness list.\n",
    "1. `generate_scouts_2()` takes a swarm of elite or best bees, generates scouts that search around the elite and best positions and picks the best one for each location. A new swarm of the same size is returned but with the best within the scouts."
   ]
  },
  {
   "cell_type": "code",
   "execution_count": 6,
   "metadata": {
    "colab": {},
    "colab_type": "code",
    "id": "Clo6MP4VouJt"
   },
   "outputs": [],
   "source": [
    "def generate_random_bees(n,sensors,num_bees):\n",
    "    \"\"\"\n",
    "    Generate a new set of random bees\n",
    "    Inputs: n: size of terrain (nXn)\n",
    "            sensors: list with the sensors to place\n",
    "            num_bees: number of random bees to generate\n",
    "      Output: list with sensor positions for each bee\n",
    "    \"\"\"\n",
    "    bees = []\n",
    "    this_bee = []\n",
    "    for i in range(0,num_bees):\n",
    "        for k in range(0,len(sensors)):\n",
    "            this_bee.append((np.random.randint(n)+1,np.random.randint(n)+1))\n",
    "        bees.append(this_bee)\n",
    "        this_bee = []\n",
    "    return bees"
   ]
  },
  {
   "cell_type": "code",
   "execution_count": 7,
   "metadata": {
    "colab": {},
    "colab_type": "code",
    "id": "3XHqBiqwtDx7"
   },
   "outputs": [],
   "source": [
    "def check_swarm_fitness(swarm,sel,board,sensors):\n",
    "    \"\"\" Find the n best bees in a swarm. \n",
    "        Inputs: swarm: a swarm of bees, list with the sensor position for each bee.\n",
    "                sel: how many bees to select from the swarm.\n",
    "                board: the configuration of the terrain.\n",
    "                sensors: list with the sensors.\n",
    "    \n",
    "        Return a list with the index of the best bees, first in the list is the best, \n",
    "        second in the list is second best, etc.\n",
    "    \"\"\"\n",
    "    fitness = []\n",
    "    best_bees = []\n",
    "    for bee in swarm:\n",
    "        this_board = copy.deepcopy(board)\n",
    "        make_sol(this_board,bee,sensors)\n",
    "        this_fitness = checksolution(this_board)\n",
    "        fitness.append(this_fitness)\n",
    "    for i in range(0,sel):\n",
    "        this_best = np.argmax(fitness)\n",
    "        best_bees.append(this_best)\n",
    "        fitness[this_best] = 0\n",
    "    return best_bees"
   ]
  },
  {
   "cell_type": "code",
   "execution_count": 8,
   "metadata": {
    "colab": {},
    "colab_type": "code",
    "id": "wAUZAdRwv2_5"
   },
   "outputs": [],
   "source": [
    "def make_swarm(swarm,best):\n",
    "    \"\"\"Given a swarm and a list (as generated by check_swarm_fitness()) return a new, smaller swarm\"\"\"\n",
    "    best_swarm=[]\n",
    "    for i in range(0,len(best)):\n",
    "        best_swarm.append(swarm[best[i]])\n",
    "    return best_swarm  "
   ]
  },
  {
   "cell_type": "code",
   "execution_count": 9,
   "metadata": {
    "colab": {},
    "colab_type": "code",
    "id": "6JcqGfmg90hO"
   },
   "outputs": [],
   "source": [
    "def generate_scouts_2(swarm,num_scouts,board,sensors):\n",
    "    \"\"\" Given a swarm of elite or best bees, generate scouts around a location and pick the best for each place\n",
    "        Inputs: swarm: the list of elite/best bees\n",
    "                num_scouts: how many scouts per elite/best bee\n",
    "                board: the configuration of the terrain\n",
    "                sensors: the list of sensors to place\n",
    "        Return: A new swarm, optimized with scouts.\n",
    "    \"\"\"\n",
    "    \n",
    "    final_swarm = []\n",
    "    for bee in swarm:\n",
    "        mini_swarm = []\n",
    "        mini_swarm.append(bee)\n",
    "        for i in range(0,num_scouts):\n",
    "            new_scout = []\n",
    "            for sen in bee:\n",
    "                pos1 = sen[0]\n",
    "                if not(pos1<=1 or pos1 >=6):\n",
    "                    pos1 = pos1+np.random.choice([0,-1,1],p=[0.4,0.3,0.3])\n",
    "                pos2 = sen[1]\n",
    "                if not(pos2<-1 or pos2>=6):  \n",
    "                    pos2 = pos2+np.random.choice([0,-1,1],p=[0.4,0.3,0.3])\n",
    "                new_scout.append((pos1,pos2))\n",
    "        mini_swarm.append(new_scout)\n",
    "        best = check_swarm_fitness(mini_swarm,1,board,sensors)[0]\n",
    "        best_bee = mini_swarm[best]\n",
    "        #print(best_bee)\n",
    "        final_swarm.append(best_bee)\n",
    "    return final_swarm"
   ]
  },
  {
   "cell_type": "markdown",
   "metadata": {},
   "source": [
    "### Putting everything together\n",
    "\n",
    "`bees_SensorNetwork()` puts everything together by creating random bees, finding elite and best bees and making new generations by taking the best and new randomly initialized bees."
   ]
  },
  {
   "cell_type": "code",
   "execution_count": 10,
   "metadata": {
    "colab": {},
    "colab_type": "code",
    "id": "VNoQX5mAp7h-"
   },
   "outputs": [],
   "source": [
    "def bees_SensorNetwork(board,sensors,num_bees,num_elite,m, generations=1000):\n",
    "    \"\"\"Bees System Algorithm: carry out several generations of the algorithm\"\"\"\n",
    "    iteration = 1\n",
    "    swarm = generate_random_bees(len(board),sensors,num_bees)\n",
    "  \n",
    "    while iteration < generations:\n",
    "  \n",
    "        best = check_swarm_fitness(swarm,m,board,sensors)\n",
    "        best_swarm = make_swarm(swarm,best)\n",
    "        elite = best_swarm[0:num_elite]\n",
    "        next_best = best_swarm[num_elite:]\n",
    "        new_gen = []\n",
    "\n",
    "        new_gen.extend(generate_scouts_2(elite,4,board,sensors))\n",
    "        new_gen.extend(generate_scouts_2(next_best,2,board,sensors))\n",
    "        new_gen.extend(generate_random_bees(len(board),sensors,num_bees-m))\n",
    "\n",
    "        swarm = new_gen\n",
    "        iteration += 1\n",
    "   \n",
    "    best_ind = check_swarm_fitness(swarm,1,board,sensors)[0]\n",
    "\n",
    "    return swarm[best_ind]"
   ]
  },
  {
   "cell_type": "markdown",
   "metadata": {},
   "source": [
    "## Experimentation"
   ]
  },
  {
   "cell_type": "markdown",
   "metadata": {},
   "source": [
    "We provide an example of the algorithm working, let's start by creating a terain, a possible solution and a set of sensors"
   ]
  },
  {
   "cell_type": "code",
   "execution_count": 11,
   "metadata": {
    "colab": {},
    "colab_type": "code",
    "id": "lGa0UrA5oqBM"
   },
   "outputs": [],
   "source": [
    "board = [[1,1,0,0,1,0],[1,0,0,1,1,1],[0,0,1,1,1,1],[1,1,1,1,1,1],[0,0,0,1,1,1],[1,1,1,1,0,0]]\n",
    "\n",
    "sol = [(1,1),(1,5),(4,5),(5,3)]\n",
    "\n",
    "sensors = [3,2,2,1]"
   ]
  },
  {
   "cell_type": "markdown",
   "metadata": {},
   "source": [
    "Let's see how the configuration looks and how a solution looks like"
   ]
  },
  {
   "cell_type": "code",
   "execution_count": 12,
   "metadata": {
    "colab": {
     "base_uri": "https://localhost:8080/",
     "height": 323
    },
    "colab_type": "code",
    "id": "CWvjqry0osTf",
    "outputId": "ea90f0c9-5636-402d-900b-f5380a42fb90"
   },
   "outputs": [
    {
     "name": "stdout",
     "output_type": "stream",
     "text": [
      "The board without sensors looks like this: \n",
      "  1 2 3 4 5 6 \n",
      "1 - - X X - X \n",
      "2 - X X - - - \n",
      "3 X X - - - - \n",
      "4 - - - - - - \n",
      "5 X X X - - - \n",
      "6 - - - - X X \n",
      "\n",
      "The initial solution is: \n",
      "  1 2 3 4 5 6 \n",
      "1 1 1 # X 2 # \n",
      "2 1 # # - 2 2 \n",
      "3 # # 1 - - - \n",
      "4 - - - - 3 3 \n",
      "5 X X # - 3 3 \n",
      "6 - - - - X X \n",
      "It has a fitness of:  11\n"
     ]
    }
   ],
   "source": [
    "print('The board without sensors looks like this: ')\n",
    "print_board(board)\n",
    "print('\\nThe initial solution is: ')\n",
    "initial_board = copy.deepcopy(board)\n",
    "make_sol(initial_board,sol,sensors)\n",
    "print_sol(initial_board)\n",
    "print('It has a fitness of: ',checksolution(initial_board))"
   ]
  },
  {
   "cell_type": "markdown",
   "metadata": {},
   "source": [
    "Now we use the Bees System Algorithm to find an optimal solution. We create 10 bees, and for each generation we pick $m=4$ bees out of which 2 are elite."
   ]
  },
  {
   "cell_type": "code",
   "execution_count": 13,
   "metadata": {},
   "outputs": [],
   "source": [
    "solution = bees_SensorNetwork(board,sensors,10,2,4)"
   ]
  },
  {
   "cell_type": "code",
   "execution_count": 14,
   "metadata": {
    "colab": {
     "base_uri": "https://localhost:8080/",
     "height": 153
    },
    "colab_type": "code",
    "id": "SS12c2qtBzhm",
    "outputId": "f20957c7-785e-4379-b4c2-ebbfa6995f72"
   },
   "outputs": [
    {
     "name": "stdout",
     "output_type": "stream",
     "text": [
      "  1 2 3 4 5 6 \n",
      "1 - 4 X X 3 # \n",
      "2 - X X - 3 3 \n",
      "3 X # 2 1 1 1 \n",
      "4 - 2 2 1 1 1 \n",
      "5 X X X 1 1 1 \n",
      "6 - - - - X X \n",
      "Fitness:  16\n"
     ]
    }
   ],
   "source": [
    "check_board = copy.deepcopy(board)\n",
    "\n",
    "make_sol(check_board,solution,sensors)\n",
    "\n",
    "print_sol(check_board)\n",
    "\n",
    "print(\"Fitness: \",checksolution(check_board))"
   ]
  },
  {
   "cell_type": "markdown",
   "metadata": {},
   "source": [
    "Having run this algorithm several times, we see that although the solution may be different the best possible solution of 16 is always found."
   ]
  },
  {
   "cell_type": "markdown",
   "metadata": {},
   "source": [
    "### Second Experiment\n",
    "Let's try to use the same algorithm with a different board and more sensors. The board we have created for this experiment has a pretty specific optimal solution and thus several possible local optima, let's see how the algorithm handles it."
   ]
  },
  {
   "cell_type": "code",
   "execution_count": 15,
   "metadata": {},
   "outputs": [],
   "source": [
    "board2 = [[1,1,1,1,1,0],[1,1,1,1,1,0],[0,0,1,1,1,0],[0,0,1,1,1,1],[1,1,0,1,1,1],[1,1,0,1,1,1]]\n",
    "\n",
    "sol2 = [(1,1),(1,4),(4,1),(4,3),(6,1)]\n",
    "\n",
    "sensors2 = [3,3,2,2,1]"
   ]
  },
  {
   "cell_type": "code",
   "execution_count": 16,
   "metadata": {},
   "outputs": [
    {
     "name": "stdout",
     "output_type": "stream",
     "text": [
      "The board without sensors looks like this: \n",
      "  1 2 3 4 5 6 \n",
      "1 - - - - - X \n",
      "2 - - - - - X \n",
      "3 X X - - - X \n",
      "4 X X - - - - \n",
      "5 - - X - - - \n",
      "6 - - X - - - \n"
     ]
    }
   ],
   "source": [
    "print('The board without sensors looks like this: ')\n",
    "print_board(board2)"
   ]
  },
  {
   "cell_type": "code",
   "execution_count": 17,
   "metadata": {},
   "outputs": [],
   "source": [
    "solution2 = bees_SensorNetwork(board2,sensors2,num_bees = 50,num_elite = 5,m=10,generations=4000)"
   ]
  },
  {
   "cell_type": "code",
   "execution_count": 18,
   "metadata": {},
   "outputs": [
    {
     "name": "stdout",
     "output_type": "stream",
     "text": [
      "  1 2 3 4 5 6 \n",
      "1 4 4 2 2 2 X \n",
      "2 4 4 2 2 2 X \n",
      "3 X X 2 2 2 X \n",
      "4 X X 5 1 1 1 \n",
      "5 3 3 X 1 1 1 \n",
      "6 3 3 X 1 1 1 \n",
      "Fitness:  27\n"
     ]
    }
   ],
   "source": [
    "check_board2 = copy.deepcopy(board2)\n",
    "\n",
    "make_sol(check_board2,solution2,sensors2)\n",
    "\n",
    "print_sol(check_board2)\n",
    "\n",
    "print(\"Fitness: \",checksolution(check_board2))"
   ]
  },
  {
   "cell_type": "markdown",
   "metadata": {},
   "source": [
    "To get the optimal solution we had to bump the settings a little but we can see that the algorithm managed to find the optimal solution where every space has a sensor in it."
   ]
  }
 ],
 "metadata": {
  "colab": {
   "collapsed_sections": [],
   "name": "Assignment4-BeesAlgorithm.ipynb",
   "provenance": [],
   "version": "0.3.2"
  },
  "kernelspec": {
   "display_name": "Python 3",
   "language": "python",
   "name": "python3"
  },
  "language_info": {
   "codemirror_mode": {
    "name": "ipython",
    "version": 3
   },
   "file_extension": ".py",
   "mimetype": "text/x-python",
   "name": "python",
   "nbconvert_exporter": "python",
   "pygments_lexer": "ipython3",
   "version": "3.6.5"
  }
 },
 "nbformat": 4,
 "nbformat_minor": 1
}
