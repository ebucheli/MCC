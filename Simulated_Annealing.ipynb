{
 "cells": [
  {
   "cell_type": "markdown",
   "metadata": {},
   "source": [
    "# Simulated Annealing"
   ]
  },
  {
   "cell_type": "markdown",
   "metadata": {},
   "source": [
    "Edoardo Bucheli A01016080\n",
    "Ernesto Campos A00759359"
   ]
  },
  {
   "cell_type": "markdown",
   "metadata": {},
   "source": [
    "In this notebook we present an implementation of the Simulated Annealing Algorithm to find the solution to a 2-dimensional Sensor Network problem. First we implement several helper functions and finally we present an example problem statement and the solution.\n",
    "\n",
    "Let us first talk about the characterization of the problem. The terrain is represented as a 2D grid with dimensions $6\\times 6$. We represent positions with a tuple $(a,b)$ where $a$ is the row and $b$ is the column. The upper left coordinate is $(1,1)$ and the bottom right corner is the coordinate $(6,6)$.\n",
    "\n",
    "The terrain or `board` is represented as a list that is itself composed of lists each containing the information for a row. In its original configuration, a $1$ represents a cell that we wish to have a sensor in and $0$ represents a cell which does not interests us. This changes when a solution is generated, this is explained later in this document.\n",
    "\n",
    "We use a list `sensors` whose length is equal to the number of sensors to place in the terrain. Each nth element `sensors[n]` represents the dimension of the receptive field of the sensor. So a sensor represented by the number $3$ has a receptive field of $3\\times 3$. The coordinate given is the upper left corner of said recpetive field.\n",
    "\n",
    "A solution is represented as a list of tuples specifying the position for each sensor. This must coincide with the list `sensors`, so the first element in a list `sol` refers to the position of the first element in the `sensors` list, and so on."
   ]
  },
  {
   "cell_type": "code",
   "execution_count": 1,
   "metadata": {},
   "outputs": [],
   "source": [
    "import numpy as np\n",
    "import copy"
   ]
  },
  {
   "cell_type": "markdown",
   "metadata": {},
   "source": [
    "The function `find_neighbors()` takes a coordinate from the terrain and returns a list with the adjacent cells to a given cell. This adjacent cells are in 8 directions, up, down, sides and diagonals. It takes into consideration edges and corners and thus will only return coordinates that are actually part of the grid."
   ]
  },
  {
   "cell_type": "code",
   "execution_count": 2,
   "metadata": {},
   "outputs": [],
   "source": [
    "def find_neighbors(loc):\n",
    "    \"\"\"Find neighbors of a position in the field\"\"\"\n",
    "    neighbors = []\n",
    "    if loc[0]-1<1 and loc[1]-1<1:\n",
    "        neighbors.append((loc[0],loc[1]+1))\n",
    "        neighbors.append((loc[0]+1,loc[1]))\n",
    "        neighbors.append((loc[0]+1,loc[1]+1))\n",
    "    elif loc[0]-1<1 and loc[1]+1>6:\n",
    "        neighbors.append((loc[0],loc[1]-1))\n",
    "        neighbors.append((loc[0]+1,loc[1]-1))\n",
    "        neighbors.append((loc[0]+1,loc[1]))\n",
    "    elif loc[0]+1>6 and loc[1]+1>6:\n",
    "        neighbors.append((loc[0]-1,loc[1]-1))\n",
    "        neighbors.append((loc[0]-1,loc[1]))\n",
    "        neighbors.append((loc[0],loc[1]-1))\n",
    "    elif loc[0]+1>6 and loc[1]-1<1:\n",
    "        neighbors.append((loc[0]-1,loc[1]))\n",
    "        neighbors.append((loc[0]-1,loc[1]+1))\n",
    "        neighbors.append((loc[0],loc[1]+1))\n",
    "    elif loc[0]-1<1:\n",
    "        neighbors.append((loc[0],loc[1]-1))\n",
    "        neighbors.append((loc[0],loc[1]+1))\n",
    "        neighbors.append((loc[0]+1,loc[1]-1))\n",
    "        neighbors.append((loc[0]+1,loc[1]))\n",
    "        neighbors.append((loc[0]+1,loc[1]+1))\n",
    "    elif loc[1]-1<1:\n",
    "        neighbors.append((loc[0]-1,loc[1]))\n",
    "        neighbors.append((loc[0]-1,loc[1]+1))\n",
    "        neighbors.append((loc[0],loc[1]+1))\n",
    "        neighbors.append((loc[0]+1,loc[1]))\n",
    "        neighbors.append((loc[0]+1,loc[1]+1))\n",
    "    elif loc[0]+1>6:\n",
    "        neighbors.append((loc[0]-1,loc[1]-1))\n",
    "        neighbors.append((loc[0]-1,loc[1]))\n",
    "        neighbors.append((loc[0]-1,loc[1]+1))\n",
    "        neighbors.append((loc[0],loc[1]-1))\n",
    "        neighbors.append((loc[0],loc[1]+1))\n",
    "    elif loc[1]+1>6:\n",
    "        neighbors.append((loc[0]-1,loc[1]-1))\n",
    "        neighbors.append((loc[0]-1,loc[1]))\n",
    "        neighbors.append((loc[0],loc[1]-1))\n",
    "        neighbors.append((loc[0]+1,loc[1]-1))\n",
    "        neighbors.append((loc[0]+1,loc[1]))\n",
    "    else:  \n",
    "        neighbors.append((loc[0]-1,loc[1]-1))\n",
    "        neighbors.append((loc[0]-1,loc[1]))\n",
    "        neighbors.append((loc[0]-1,loc[1]+1))\n",
    "        neighbors.append((loc[0],loc[1]-1))\n",
    "        neighbors.append((loc[0],loc[1]+1))\n",
    "        neighbors.append((loc[0]+1,loc[1]-1))\n",
    "        neighbors.append((loc[0]+1,loc[1]))\n",
    "        neighbors.append((loc[0]+1,loc[1]+1))\n",
    "    return neighbors"
   ]
  },
  {
   "cell_type": "markdown",
   "metadata": {},
   "source": [
    "The functions `print_board()` and `print_sol()` simply take a board and print it so it can be easily interpreted by the user. We use two functions since representation for a terrain and a solution is different. To understand the difference check the text before the function `make_sol()`"
   ]
  },
  {
   "cell_type": "code",
   "execution_count": 3,
   "metadata": {},
   "outputs": [],
   "source": [
    "def print_board(board):\n",
    "    \"\"\"Print the initial board\"\"\"\n",
    "    n = len(board)\n",
    "    print('  ',end = '')\n",
    "    for i in range(0,n):\n",
    "        print(i+1,'',end ='')\n",
    "    print('')\n",
    "    for i in range(0,n):\n",
    "        print(i+1,end = ' ')\n",
    "        for j in range(0,n):\n",
    "            if board[i][j] == 1:\n",
    "                print('- ',end = '')\n",
    "            else:\n",
    "                print('X ',end = '')\n",
    "        print('')"
   ]
  },
  {
   "cell_type": "code",
   "execution_count": 4,
   "metadata": {},
   "outputs": [],
   "source": [
    "def print_sol(board):\n",
    "    \"\"\"Input a solution board as made by make_sol() and print it\"\"\"\n",
    "    n = len(board)\n",
    "    print('  ',end = '')\n",
    "    for i in range(0,n):\n",
    "        print(i+1,'',end ='')\n",
    "    print('')\n",
    "    for i in range(0,n):\n",
    "        print(i+1,end = ' ')\n",
    "        for j in range(0,n):\n",
    "            print(board[i][j],'',end = '')\n",
    "        print('')"
   ]
  },
  {
   "cell_type": "markdown",
   "metadata": {},
   "source": [
    "### Characterization of a solution\n",
    "\n",
    "There are several things we wish to represent in a solution, thus the representation for the configuration of a terrain and one where the sensors have been placed are different. \n",
    "\n",
    "A sensor may have a receptive field greater than 1 as specified by the `sensors` list. From the position coordinate, a sensor extends as many units to the right and below as its receptive field making a square. \n",
    "\n",
    "A number then, represents the sensor that is acting upon the cell. If a cell contains the number $1$ that means that that cell is being recorded by sensor 1. A 2 means the same for the second sensor and so on.\n",
    "\n",
    "If a cell is within the receptive field of a sensor but it is a cell that we do not wish to record then a '#' symbol appears instead. If a cell is not within the receptive field of any sensor but we wish to record it, its value should be '-'. Finally, 'X' means that there is no sensor and we do not wish to record the cell anyway.\n",
    "\n",
    "The formula `make_sol()` takes an original terrain configuration, a list that represents a solution `sol` and the list `sensors` and returns a board as described in this section."
   ]
  },
  {
   "cell_type": "code",
   "execution_count": 5,
   "metadata": {},
   "outputs": [],
   "source": [
    "def make_sol(board,sol,sensors):\n",
    "    \"\"\"\n",
    "    Take board configuration, a solution and a list with the sensors and their size.\n",
    "    Return board with sensors placed as specified by the solution and sensor size     \n",
    "    \"\"\"\n",
    "    for i in range(0,6):\n",
    "        for j in range(0,6):\n",
    "            if board[i][j]==1:\n",
    "                board[i][j]='-'\n",
    "            elif board[i][j]==0:\n",
    "                 board[i][j]='X'\n",
    "    count = 1\n",
    "    for n in sol:\n",
    "        i = n[0]-1\n",
    "        j = n[1]-1\n",
    "            \n",
    "        this_sensor = sensors[count-1]\n",
    "        for k in range(0,this_sensor):\n",
    "            for l in range(0,this_sensor):\n",
    "                if not(i+k>5 or j+l>5):\n",
    "                    if(board[i+k][j+l]=='-'):\n",
    "                        board[i+k][j+l]=count\n",
    "                    elif(board[i+k][j+l]=='X'):\n",
    "                        board[i+k][j+l]= '#'\n",
    "                else:\n",
    "                    pass\n",
    "        count += 1\n",
    "    return board"
   ]
  },
  {
   "cell_type": "markdown",
   "metadata": {},
   "source": [
    "### Fitness of a solution\n",
    "\n",
    "We measure how good a solution is by checking how many of the desired cells are within the receptive field of a sensor. Therefore we wish to maximize our fitness."
   ]
  },
  {
   "cell_type": "code",
   "execution_count": 6,
   "metadata": {},
   "outputs": [],
   "source": [
    "def checksolution(board):\n",
    "    \"\"\"Check the fitness of a solution, how many of the desired cells have a sensor\"\"\"\n",
    "    total = 0\n",
    "    for i in range(0,6):\n",
    "        for j in range(0,6):\n",
    "            if type(board[i][j])==int:\n",
    "                if board[i][j]>0:\n",
    "                    total += 1\n",
    "    return total"
   ]
  },
  {
   "cell_type": "markdown",
   "metadata": {},
   "source": [
    "### Picking a new solution\n",
    "\n",
    "Simulated Annealing requires us to generate new random or quasi-random states for each iteration. To do this we use the function pick random. It takes a solution (represented as a list of tuples just like before) and the list of sensors, mainly to know how many sensors a solution must consider. \n",
    "\n",
    "The function picks one of the sensors at random and extracts its current location. Then, one of the neighbors (obtained with `find_neighbors()`) is chosen at random and replaced to generate a new solution. The function `pick_random()` does this process and returns the index of the sensor to change and its new location."
   ]
  },
  {
   "cell_type": "code",
   "execution_count": 7,
   "metadata": {},
   "outputs": [],
   "source": [
    "def pick_random(sol,sensors):\n",
    "    \"\"\"Pick a random move from the list of possible ones\"\"\"\n",
    "    n = np.random.choice(len(sensors))\n",
    "    neighbors = find_neighbors(sol[n])\n",
    "    choice = np.random.choice(len(neighbors))\n",
    "    return n,neighbors[choice]"
   ]
  },
  {
   "cell_type": "markdown",
   "metadata": {},
   "source": [
    "### Simulated Annealing\n",
    "\n",
    "The function `simulated_annealing()` carries out the Simulated Annealing Algorithm. These are the basic steps.\n",
    "1. If temperature is 0 return current solution\n",
    "1. Pick a new solution at random as described before.\n",
    "1. Compare the fitness of the previous solution and the new one.\n",
    "1. If the new solution is better keep it.\n",
    "1. If the previous solution is better keep the new solution with probability $e^{\\Delta E/T}$. Where $\\Delta E$ is the difference between the previous and the new solutions and T is the temperature.\n",
    "1. Update Temparature.\n",
    "1. Go back to step 1.\n",
    "\n",
    "A lot of attention must be placed into how the temperature is initialized and updated. Bigger values of $T$ tend to need bigger updates to have a new probability that changes significantly, but smaller values rapidly decrease the probability if the reduction remains linear. Thus as time goes by, the algorithm reduces the amount by which the Temperature is reduced by dividing by the number of iterations, but once the reduction becomes less than $0.00001$ we make it steady to make sure it reaches 0, othewise it will go on forever.\n",
    "\n",
    "One may notice that there are several commented lines in the code, this comments can be removed to see how the algorithm works when it runs, we have removed it to make a cleaner document but feel free to change if you wish to see how the algorithm manages the information. Beware, the algorithm does quite a bit of iterations in its current form."
   ]
  },
  {
   "cell_type": "code",
   "execution_count": 8,
   "metadata": {},
   "outputs": [],
   "source": [
    "def simulated_annealing(board,sol,sensors,T):\n",
    "    \"\"\"Carry out simulated annealing to solve the problem\"\"\"\n",
    "    prev_sol = copy.deepcopy(sol)\n",
    "    next_sol = copy.deepcopy(sol)\n",
    "    iteration = 1\n",
    "    while T > 0:\n",
    "        \n",
    "        #print(\"The temperature is: \",T)\n",
    "        prev_board = copy.deepcopy(board)\n",
    "        next_board = copy.deepcopy(board)\n",
    "        \n",
    "        next_sol = copy.deepcopy(prev_sol)\n",
    "        \n",
    "        choice = pick_random(prev_sol,sensors)\n",
    "        next_sol[choice[0]]=choice[1]\n",
    "        \n",
    "        #print('Previous Solution: ',prev_sol)\n",
    "        #print('Next Solution: ',next_sol)\n",
    "        \n",
    "        make_sol(prev_board,prev_sol,sensors)\n",
    "        make_sol(next_board,next_sol,sensors)\n",
    "\n",
    "        fit_prev = checksolution(prev_board)\n",
    "        fit_next = checksolution(next_board)\n",
    "        \n",
    "        #print_sol(prev_board)\n",
    "        #print(\"The Previous Fitness is: \",fit_prev)\n",
    "        #print_sol(next_board)\n",
    "        #print(\"The Next Fitness is:\", fit_next)\n",
    "        \n",
    "        delta_e = fit_next-fit_prev\n",
    "        #print(\"Delta_e \",delta_e)\n",
    "        prob = np.exp(delta_e/T)\n",
    "        if(delta_e>0):\n",
    "            #print(\"Better!\")\n",
    "            prev_sol = next_sol\n",
    "        else:\n",
    "            #print(prob)\n",
    "            choose = np.random.choice(2,p=[1-prob,prob])\n",
    "            #print(choose)\n",
    "            if choose:\n",
    "                #print(\"Not better but prob: \",prob, \"won\")\n",
    "                prev_sol = next_sol\n",
    "            else:\n",
    "                #print(\"Not Chosen\")\n",
    "                pass\n",
    "                \n",
    "        \n",
    "        if 1/iteration>0.00001:\n",
    "            T -= 1/iteration\n",
    "        else:\n",
    "            T -=0.00001\n",
    "        iteration +=1\n",
    "        #print('')\n",
    "    #print(prev_sol)\n",
    "    final_board = copy.deepcopy(board)\n",
    "    make_sol(final_board,prev_sol,sensors)\n",
    "    #print_sol(final_board)\n",
    "    #print(checksolution(final_board))\n",
    "    return prev_sol,final_board"
   ]
  },
  {
   "cell_type": "markdown",
   "metadata": {},
   "source": [
    "### Experiment "
   ]
  },
  {
   "cell_type": "markdown",
   "metadata": {},
   "source": [
    "Let us show how this functions work first by showing the original board and then an example configuration.\n",
    "\n",
    "Start by generating a board, a solution and a set of sensors."
   ]
  },
  {
   "cell_type": "code",
   "execution_count": 9,
   "metadata": {},
   "outputs": [],
   "source": [
    "board = [[1,1,0,0,1,0],[1,0,0,1,1,1],[0,0,1,1,1,1],[1,1,1,1,1,1],[0,0,0,1,1,1],[1,1,1,1,0,0]]\n",
    "\n",
    "sol = [(1,1),(1,5),(4,5),(5,3)]\n",
    "\n",
    "sensors = [3,2,2,1]"
   ]
  },
  {
   "cell_type": "markdown",
   "metadata": {},
   "source": [
    "Let's see what this initial configutarion looks like."
   ]
  },
  {
   "cell_type": "code",
   "execution_count": 10,
   "metadata": {},
   "outputs": [
    {
     "name": "stdout",
     "output_type": "stream",
     "text": [
      "The board without sensors looks like this: \n",
      "  1 2 3 4 5 6 \n",
      "1 - - X X - X \n",
      "2 - X X - - - \n",
      "3 X X - - - - \n",
      "4 - - - - - - \n",
      "5 X X X - - - \n",
      "6 - - - - X X \n",
      "\n",
      "The initial solution is: \n",
      "  1 2 3 4 5 6 \n",
      "1 1 1 # X 2 # \n",
      "2 1 # # - 2 2 \n",
      "3 # # 1 - - - \n",
      "4 - - - - 3 3 \n",
      "5 X X # - 3 3 \n",
      "6 - - - - X X \n",
      "It has a fitness of:  11\n"
     ]
    }
   ],
   "source": [
    "print('The board without sensors looks like this: ')\n",
    "print_board(board)\n",
    "print('\\nThe initial solution is: ')\n",
    "initial_board = copy.deepcopy(board)\n",
    "make_sol(initial_board,sol,sensors)\n",
    "print_sol(initial_board)\n",
    "print('It has a fitness of: ',checksolution(initial_board))"
   ]
  },
  {
   "cell_type": "markdown",
   "metadata": {},
   "source": [
    "Now let's carry out Simulated Annealing to optimize the solution, we wish to maximize the fitness, which means more cells will have a sensor in it. \n",
    "\n",
    "In Simulated Annealing the choice of initial temperature and how it is updates is vital. Here we have chosen $T=10$."
   ]
  },
  {
   "cell_type": "code",
   "execution_count": 11,
   "metadata": {},
   "outputs": [],
   "source": [
    "solution,final_board = simulated_annealing(board,sol,sensors,T=10.0)"
   ]
  },
  {
   "cell_type": "code",
   "execution_count": 12,
   "metadata": {},
   "outputs": [
    {
     "name": "stdout",
     "output_type": "stream",
     "text": [
      "The solution found is: [(3, 4), (1, 5), (3, 2), (1, 2)]\n",
      "With Fitness:  16\n",
      "  1 2 3 4 5 6 \n",
      "1 - 4 X X 2 # \n",
      "2 - X X - 2 2 \n",
      "3 X # 3 1 1 1 \n",
      "4 - 3 3 1 1 1 \n",
      "5 X X X 1 1 1 \n",
      "6 - - - - X X \n"
     ]
    }
   ],
   "source": [
    "print('The solution found is:', solution)\n",
    "print('With Fitness: ',checksolution(final_board))\n",
    "print_sol(final_board)"
   ]
  },
  {
   "cell_type": "markdown",
   "metadata": {},
   "source": [
    "If we run the algorithm several times we may find different solutions but utlimately the Fitness is allways 16 which is the best possible in this scenario."
   ]
  },
  {
   "cell_type": "markdown",
   "metadata": {},
   "source": [
    "### Second Experiment\n",
    "Let's try to use the same algorithm with a different board and more sensors. The board we have created for this experiment has a pretty specific optimal solution and thus several possible local optima, let's see how the algorithm handles it."
   ]
  },
  {
   "cell_type": "code",
   "execution_count": 13,
   "metadata": {},
   "outputs": [],
   "source": [
    "board2 = [[1,1,1,1,1,0],[1,1,1,1,1,0],[0,0,1,1,1,0],[0,0,1,1,1,1],[1,1,0,1,1,1],[1,1,0,1,1,1]]\n",
    "\n",
    "sol2 = [(1,1),(1,4),(4,1),(4,3),(6,1)]\n",
    "\n",
    "sensors2 = [3,3,2,2,1]"
   ]
  },
  {
   "cell_type": "code",
   "execution_count": 14,
   "metadata": {},
   "outputs": [
    {
     "name": "stdout",
     "output_type": "stream",
     "text": [
      "The board without sensors looks like this: \n",
      "  1 2 3 4 5 6 \n",
      "1 - - - - - X \n",
      "2 - - - - - X \n",
      "3 X X - - - X \n",
      "4 X X - - - - \n",
      "5 - - X - - - \n",
      "6 - - X - - - \n"
     ]
    }
   ],
   "source": [
    "print('The board without sensors looks like this: ')\n",
    "print_board(board2)"
   ]
  },
  {
   "cell_type": "code",
   "execution_count": 15,
   "metadata": {},
   "outputs": [],
   "source": [
    "solution2,final_board2 = simulated_annealing(board2,sol2,sensors2,T=10.0)"
   ]
  },
  {
   "cell_type": "code",
   "execution_count": 16,
   "metadata": {},
   "outputs": [
    {
     "name": "stdout",
     "output_type": "stream",
     "text": [
      "The solution found is: [(4, 4), (1, 3), (5, 1), (1, 1), (4, 3)]\n",
      "With Fitness:  27\n",
      "  1 2 3 4 5 6 \n",
      "1 4 4 2 2 2 X \n",
      "2 4 4 2 2 2 X \n",
      "3 X X 2 2 2 X \n",
      "4 X X 5 1 1 1 \n",
      "5 3 3 X 1 1 1 \n",
      "6 3 3 X 1 1 1 \n"
     ]
    }
   ],
   "source": [
    "print('The solution found is:', solution2)\n",
    "print('With Fitness: ',checksolution(final_board2))\n",
    "print_sol(final_board2)"
   ]
  },
  {
   "cell_type": "markdown",
   "metadata": {},
   "source": [
    "We can see tha algorithm correctly finding the optimal solution where every desired cell has a sensor and we have a fitness of 27."
   ]
  }
 ],
 "metadata": {
  "kernelspec": {
   "display_name": "Python 3",
   "language": "python",
   "name": "python3"
  },
  "language_info": {
   "codemirror_mode": {
    "name": "ipython",
    "version": 3
   },
   "file_extension": ".py",
   "mimetype": "text/x-python",
   "name": "python",
   "nbconvert_exporter": "python",
   "pygments_lexer": "ipython3",
   "version": "3.6.5"
  }
 },
 "nbformat": 4,
 "nbformat_minor": 2
}
